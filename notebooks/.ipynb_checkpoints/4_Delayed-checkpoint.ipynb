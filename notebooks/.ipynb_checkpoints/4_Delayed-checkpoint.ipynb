{
 "cells": [
  {
   "cell_type": "markdown",
   "id": "be4dd2fc",
   "metadata": {},
   "source": [
    "<img src=\"https://raw.githubusercontent.com/dask/dask/main/docs/source/images/dask_horizontal_no_pad.svg\" \n",
    "     width=\"35%\"\n",
    "     alt=\"Dask logo\\\" />\n",
    "\n",
    "This notebook was inspired in the materials from: \n",
    "\n",
    "- https://github.com/coiled/pydata-global-dask/\n",
    "- https://github.com/dask/dask-tutorial/\n",
    "\n",
    "# Dask Delayed\n",
    "\n",
    "Sometimes we have problems that are parallelizable. Dask delayed is an interface that can be use to parallelize existing Python code and custom algorithms. \n",
    "\n",
    "A first step to determine if we can use `dask.delayed` is to identify if there is some level of parallelism that we haven't exploit and hopefully `dask.delayed` will take care of it. We will start showing a simple example inspired on the main [Dask tutorial](https://tutorial.dask.org/), and we will it parallelize using `dask.delayed`.\n",
    "\n",
    "The following two functions will perform simple computations, where we use the `sleep` to simulate work. "
   ]
  },
  {
   "cell_type": "code",
   "execution_count": null,
   "id": "c7cbb4e5",
   "metadata": {},
   "outputs": [],
   "source": [
    "from time import sleep\n",
    "\n",
    "def inc(x):\n",
    "    \"\"\"Increments x by one\"\"\"\n",
    "    sleep(1)\n",
    "    return x + 1\n",
    "\n",
    "def add(x, y):\n",
    "    \"\"\"Adds x and y\"\"\"\n",
    "    sleep(1)\n",
    "    return x + y"
   ]
  },
  {
   "cell_type": "markdown",
   "id": "700f0a97",
   "metadata": {},
   "source": [
    "Let's do some operations and time these functions using the `%%time` magic at the beginning of the cell. "
   ]
  },
  {
   "cell_type": "code",
   "execution_count": null,
   "id": "1c0053fb",
   "metadata": {},
   "outputs": [],
   "source": [
    "%%time\n",
    "\n",
    "x = inc(1)\n",
    "y = inc(2)\n",
    "z = add(x, y)"
   ]
  },
  {
   "cell_type": "markdown",
   "id": "a99dd0ec",
   "metadata": {},
   "source": [
    "The execution of the cell above took three seconds, this happens because we are calling  each function sequentially. The computations above can be represented by the following graph:\n",
    "\n",
    "<img src=\"https://raw.githubusercontent.com/dask/dask/main/docs/source/images/inc-add.svg\" \n",
    "     width=\"55%\"\n",
    "     alt=\"Dask graph\\\" />\n",
    "\n",
    "\n",
    "Where the circles are function calls, squares represent objects that are created by one task as output and can be inputs into other tasks, and arrows represent the dependencies between the tasks. From looking at the task graph, the opportunity for parallelization is more evident since the the two calls to the `inc` function are completely independent of one-another. Let's explore how `dask.delayed` can help us with this.\n",
    "\n",
    "\n",
    "### `dask.delayed` \n",
    "\n",
    "Using the `dask.delayed` decorator we'll transform the `inc` and `add` functions. "
   ]
  },
  {
   "cell_type": "code",
   "execution_count": null,
   "id": "31abdfa5",
   "metadata": {},
   "outputs": [],
   "source": [
    "from dask import delayed"
   ]
  },
  {
   "cell_type": "code",
   "execution_count": null,
   "id": "03aed361",
   "metadata": {},
   "outputs": [],
   "source": [
    "%%time\n",
    "\n",
    "a = delayed(inc)(1)\n",
    "b = delayed(inc)(2)\n",
    "c = delayed(add)(a, b)"
   ]
  },
  {
   "cell_type": "markdown",
   "id": "f5546859",
   "metadata": {},
   "source": [
    "When we call the `delayed` version of the functions by passing the arguments, the original function is isn't actually called yet, that's why the execution finishes very quickly. When we called the `delayed` version of the functions, a `delayed` object is made, which keeps track of the functions to call and what arguments to pass to it. \n",
    "\n",
    "If we inspect `c`, we will notice that it instead of having the value five, we have what is called a `delayed` object."
   ]
  },
  {
   "cell_type": "code",
   "execution_count": null,
   "id": "33c59a9b",
   "metadata": {},
   "outputs": [],
   "source": [
    "print(c)"
   ]
  },
  {
   "cell_type": "markdown",
   "id": "4ae1bfee",
   "metadata": {},
   "source": [
    "We can visualize this objects by doing:"
   ]
  },
  {
   "cell_type": "code",
   "execution_count": null,
   "id": "ba3c6980",
   "metadata": {},
   "outputs": [],
   "source": [
    "c.visualize()"
   ]
  },
  {
   "cell_type": "markdown",
   "id": "2714579a",
   "metadata": {},
   "source": [
    "Up to this point the object `c` holds all the information we need to compute the result. We can evaluate the result with `.compute()`."
   ]
  },
  {
   "cell_type": "code",
   "execution_count": null,
   "id": "3cfea4e1",
   "metadata": {},
   "outputs": [],
   "source": [
    "%%time\n",
    "\n",
    "c.compute()"
   ]
  },
  {
   "cell_type": "markdown",
   "id": "b69fe21d",
   "metadata": {},
   "source": [
    "Notice that now the computation took 2s instead of 3s, this is because the two `inc` computations are run in parallel. \n",
    "\n",
    "**Note for Binder users**\n",
    "\n",
    "If you are running this notebook using binder, you will probably not ee a speed-up. This happens because binder instances tend to have only one core with no threads so you can't see any parallelism. We can \"fix\" this by setting the number of workers a higher but there is no guarantee that we will get these resources. \n",
    "\n",
    "For now, you can try copying the following line on a cell and executing the same computation than before and see what happens. On one cell execute:\n",
    "\n",
    "\n",
    "```python\n",
    "import dask\n",
    "dask.config.set(scheduler='threads', num_workers=4)  #setting num_workers\n",
    "```\n",
    "\n",
    "and on a separate cell try to run this again:\n",
    "\n",
    "```python\n",
    "%%time\n",
    "c.compute()\n",
    "```\n",
    "\n",
    "Don't worry about the syntax for now, we will explain this on the next lesson. "
   ]
  },
  {
   "cell_type": "markdown",
   "id": "833397dd",
   "metadata": {},
   "source": [
    "## Parallelizing a `for`-loop\n",
    "\n",
    "When we perform the same group of operation multiple times in the form of `for-loop`, there is a chance that we can perform this computations in parallel. For example, the following serial code, can be parallelized using `delayed`: "
   ]
  },
  {
   "cell_type": "code",
   "execution_count": null,
   "id": "c79c75b0",
   "metadata": {},
   "outputs": [],
   "source": [
    "data = list(range(8))"
   ]
  },
  {
   "cell_type": "markdown",
   "id": "5926bbf6",
   "metadata": {},
   "source": [
    "#### Sequential code"
   ]
  },
  {
   "cell_type": "code",
   "execution_count": null,
   "id": "8153b1b6",
   "metadata": {},
   "outputs": [],
   "source": [
    "%%time\n",
    "results = []\n",
    "for i in data:\n",
    "    y = inc(i)         # do somthing here\n",
    "    results.append(y)\n",
    "    \n",
    "total = sum(results)  # do something here"
   ]
  },
  {
   "cell_type": "code",
   "execution_count": null,
   "id": "a18b54f1",
   "metadata": {},
   "outputs": [],
   "source": [
    "print(f'{total = }')"
   ]
  },
  {
   "cell_type": "markdown",
   "id": "5d269dee",
   "metadata": {},
   "source": [
    "### Exercise: \n",
    "\n",
    "Notice that both the `inc` and `sum` operations can be done in parallel, use `delayed` to parallelize the sequential code above, compute the `total` and time it using `%%time` "
   ]
  },
  {
   "cell_type": "code",
   "execution_count": null,
   "id": "d6905529",
   "metadata": {},
   "outputs": [],
   "source": [
    "#solution\n",
    "results = []\n",
    "for i in data:\n",
    "    y = delayed(inc)(i)    \n",
    "    results.append(y)\n",
    "    \n",
    "total = delayed(sum)(results)  "
   ]
  },
  {
   "cell_type": "markdown",
   "id": "fd452def",
   "metadata": {},
   "source": [
    "In the code above, the `sum` step is not run in parallel, but it depends on each of the `inc` steps, that's why it needs the `delayed` decorator too. The `inc`steps will be parallelized, then aggregated with the `sum` step.\n",
    "\n",
    "Notice that we can apply delayed to built-in functions, as we did in the case of `sum` in the code above. "
   ]
  },
  {
   "cell_type": "code",
   "execution_count": null,
   "id": "6f52a461",
   "metadata": {},
   "outputs": [],
   "source": [
    "total"
   ]
  },
  {
   "cell_type": "code",
   "execution_count": null,
   "id": "bd0270ec",
   "metadata": {},
   "outputs": [],
   "source": [
    "total.visualize()"
   ]
  },
  {
   "cell_type": "code",
   "execution_count": null,
   "id": "ab0269d9",
   "metadata": {},
   "outputs": [],
   "source": [
    "%%time\n",
    "total.compute()"
   ]
  },
  {
   "cell_type": "markdown",
   "id": "ba56c847",
   "metadata": {},
   "source": [
    "**Note:**\n",
    "\n",
    "When we used `dask.delayed` without having a distributed scheduler (will see this later). We are relying on a single-machine scheduler, and dask will use the threadpool executor, which by default will use the resources available on your machine. This can cause that you see different time values for the parallel version, since it'll depend on the resources you have available.\n",
    "\n",
    "You can check this by doing:"
   ]
  },
  {
   "cell_type": "code",
   "execution_count": null,
   "id": "fc6aab81",
   "metadata": {},
   "outputs": [],
   "source": [
    "import os\n",
    "os.cpu_count()"
   ]
  },
  {
   "cell_type": "markdown",
   "id": "38659821",
   "metadata": {},
   "source": [
    "###  The `@delayed` syntax \n",
    "\n",
    "The `delayed` decorator can be also used by \"decorating\" with `@delayed` the function you want to parallelize."
   ]
  },
  {
   "cell_type": "code",
   "execution_count": null,
   "id": "294b1737",
   "metadata": {},
   "outputs": [],
   "source": [
    "@delayed                    \n",
    "def double(x):\n",
    "    \"\"\"Decrease x by one\"\"\"\n",
    "    sleep(1)\n",
    "    return 2*x "
   ]
  },
  {
   "cell_type": "markdown",
   "id": "acf79fa0",
   "metadata": {},
   "source": [
    "Then when we call this new `dec` function we obtain a delayed object:"
   ]
  },
  {
   "cell_type": "code",
   "execution_count": null,
   "id": "dd9c01f2",
   "metadata": {},
   "outputs": [],
   "source": [
    "d = double(4)\n",
    "print(d)"
   ]
  },
  {
   "cell_type": "markdown",
   "id": "abdb64b5",
   "metadata": {},
   "source": [
    "### Exercise\n",
    "\n",
    "Using the `delayed` decorator create the parallel versions of `inc` and `add`"
   ]
  },
  {
   "cell_type": "code",
   "execution_count": null,
   "id": "57f47d98",
   "metadata": {},
   "outputs": [],
   "source": [
    "#solution\n",
    "\n",
    "@delayed\n",
    "def inc(x):\n",
    "    \"\"\"Increments x by one\"\"\"\n",
    "    sleep(1)\n",
    "    return x + 1\n",
    "\n",
    "@delayed\n",
    "def add(x, y):\n",
    "    \"\"\"Adds x and y\"\"\"\n",
    "    sleep(1)\n",
    "    return x + y"
   ]
  },
  {
   "cell_type": "markdown",
   "id": "b3866d3d",
   "metadata": {},
   "source": [
    "``Delayed`` objects support several standard Python operations, each of which creates another ``Delayed`` object representing the result:\n",
    "\n",
    "- Arithmetic operators, e.g. `*`, `-`, `+`\n",
    "- Item access and slicing, e.g. `x[0]`, `x[1:3]`\n",
    "- Attribute access, e.g. `x.size`\n",
    "- Method calls, e.g. `x.index(0)`\n",
    "\n",
    "For example you can do:"
   ]
  },
  {
   "cell_type": "code",
   "execution_count": null,
   "id": "bfa8a187",
   "metadata": {},
   "outputs": [],
   "source": [
    "result = (inc(5) * inc(7)) + (inc(3) * inc(2))\n",
    "result.visualize()"
   ]
  },
  {
   "cell_type": "code",
   "execution_count": null,
   "id": "93cee5c9",
   "metadata": {},
   "outputs": [],
   "source": [
    "%%time\n",
    "result.compute()"
   ]
  },
  {
   "cell_type": "markdown",
   "id": "96e389ce",
   "metadata": {},
   "source": [
    "## Another for-loop example "
   ]
  },
  {
   "cell_type": "markdown",
   "id": "42b613af",
   "metadata": {},
   "source": [
    "Let's say we want to perform some operations like `inc`, `double` and `add` on a list of data, and finally aggregate all the results. We can use our `delayed` decorated functions to perform this computations faster. \n",
    "The serial version of the code below would take approximately 24 seconds, let's see how long does the parallel version takes:"
   ]
  },
  {
   "cell_type": "code",
   "execution_count": null,
   "id": "30bd6dd0",
   "metadata": {},
   "outputs": [],
   "source": [
    "data = list(range(8))\n",
    "\n",
    "output = []\n",
    "for x in data:\n",
    "    a = inc(x)     #parallel version\n",
    "    b = double(x)  #parallel version\n",
    "    c = add(a, b)  #parallel version\n",
    "    output.append(c)\n",
    "\n",
    "total = delayed(sum)(output)\n",
    "total"
   ]
  },
  {
   "cell_type": "markdown",
   "id": "1fac75f5",
   "metadata": {},
   "source": [
    "Noticed that `inc`, `double` and `add` in the code above are already the parallel versions, since we decorated with `@delayed`"
   ]
  },
  {
   "cell_type": "code",
   "execution_count": null,
   "id": "53649a76",
   "metadata": {},
   "outputs": [],
   "source": [
    "total.visualize()"
   ]
  },
  {
   "cell_type": "code",
   "execution_count": null,
   "id": "3831cf79",
   "metadata": {},
   "outputs": [],
   "source": [
    "%%time\n",
    "total.compute()"
   ]
  },
  {
   "cell_type": "markdown",
   "id": "c5c755fb",
   "metadata": {},
   "source": [
    "## Extra resources\n",
    "\n",
    "For more examples on `dask.delayed` check:\n",
    "- Main Dask tutorial: [Delayed lesson](https://github.com/dask/dask-tutorial/blob/main/01_dask.delayed.ipynb)\n",
    "- More examples on Delayed: [PyData global - Dask tutorial - Delayed](https://github.com/coiled/pydata-global-dask/blob/master/1-delayed.ipynb)\n",
    "- Short screencast on Dask delayed: [How to parallelize Python code with Dask Delayed (3min)](https://www.youtube.com/watch?v=-EUlNJI2QYs)\n",
    "- [Dask Delayed documentation](https://docs.dask.org/en/latest/delayed.html)\n",
    "- [Delayed Best Practices](https://docs.dask.org/en/latest/delayed-best-practices.html)\n"
   ]
  }
 ],
 "metadata": {
  "kernelspec": {
   "display_name": "dask-tutorial",
   "language": "python",
   "name": "dask-tutorial"
  },
  "language_info": {
   "codemirror_mode": {
    "name": "ipython",
    "version": 3
   },
   "file_extension": ".py",
   "mimetype": "text/x-python",
   "name": "python",
   "nbconvert_exporter": "python",
   "pygments_lexer": "ipython3",
   "version": "3.9.7"
  }
 },
 "nbformat": 4,
 "nbformat_minor": 5
}
